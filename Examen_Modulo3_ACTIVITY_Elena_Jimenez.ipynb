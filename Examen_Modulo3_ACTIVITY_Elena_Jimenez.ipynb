{
 "cells": [
  {
   "cell_type": "code",
   "execution_count": null,
   "id": "634216c6",
   "metadata": {},
   "outputs": [],
   "source": [
    "import pandas as pd\n",
    "import numpy as np\n",
    "from word2number import w2n\n",
    "import matplotlib.pyplot as plt\n",
    "import seaborn as sns\n",
    "from sklearn.experimental import enable_iterative_imputer\n",
    "from sklearn.impute import IterativeImputer\n",
    "from sklearn.impute import IterativeImputer\n",
    "from sklearn.impute import KNNImputer"
   ]
  },
  {
   "cell_type": "code",
   "execution_count": null,
   "id": "6a2d64ee",
   "metadata": {},
   "outputs": [],
   "source": [
    "df_activity = pd.read_csv(\"Customer Flight Activity.csv\", index_col=0)\n",
    "pd.set_option('display.max_columns', None) \n",
    "pd.set_option('display.max_rows', None) "
   ]
  },
  {
   "cell_type": "markdown",
   "id": "e31a507e",
   "metadata": {},
   "source": [
    "# FASE 1"
   ]
  },
  {
   "cell_type": "markdown",
   "id": "98c9704a",
   "metadata": {},
   "source": [
    "# 1. **Exploración Inicial:**\n",
    "\n",
    "   - Realiza una exploración inicial de los datos para identificar posibles problemas, como valores nulos, atípicos o datos faltantes en las columnas relevantes.\n",
    "\n",
    "   - Utiliza funciones de Pandas para obtener información sobre la estructura de los datos, la presencia de valores nulos y estadísticas básicas de las columnas involucradas.\n",
    "\n",
    "   - Une los dos conjuntos de datos de la forma más eficiente. "
   ]
  },
  {
   "cell_type": "code",
   "execution_count": null,
   "id": "298556a8",
   "metadata": {},
   "outputs": [],
   "source": [
    "df_activity.sample(5)"
   ]
  },
  {
   "cell_type": "markdown",
   "id": "bae0170c",
   "metadata": {},
   "source": [
    "Echamos un primer vistazo a los datos para ver qué tipo de columnas tenemos."
   ]
  },
  {
   "cell_type": "code",
   "execution_count": null,
   "id": "c1df328f",
   "metadata": {},
   "outputs": [],
   "source": [
    "df_activity.columns"
   ]
  },
  {
   "cell_type": "markdown",
   "id": "b432a8f3",
   "metadata": {},
   "source": [
    "En este caso aparece \"LOYALTY NUMBER\" que es el identificador por cliente, nos aparece como index y nos conviene que nos aparezca como columna."
   ]
  },
  {
   "cell_type": "markdown",
   "id": "6a47906e",
   "metadata": {},
   "source": [
    "Vamos a pasar el LOYALTY NUMBER a columna:"
   ]
  },
  {
   "cell_type": "code",
   "execution_count": null,
   "id": "6e1068f2",
   "metadata": {},
   "outputs": [],
   "source": [
    "df_activity = df_activity.reset_index()"
   ]
  },
  {
   "cell_type": "code",
   "execution_count": null,
   "id": "317e5fa4",
   "metadata": {},
   "outputs": [],
   "source": [
    "df_activity.shape"
   ]
  },
  {
   "cell_type": "markdown",
   "id": "5e14fb10",
   "metadata": {},
   "source": [
    "Vemos que en este caso contamos con 405.624 filas y 9 columnas"
   ]
  },
  {
   "cell_type": "code",
   "execution_count": null,
   "id": "b97cd268",
   "metadata": {},
   "outputs": [],
   "source": [
    "df_activity.info()"
   ]
  },
  {
   "cell_type": "markdown",
   "id": "9e040170",
   "metadata": {},
   "source": [
    "Comprobamos que los datos están con el tipo correcto para poder trabajar con ellos y además vemos el numero de nulos que tenemos en cada columna, en este caso el documento no tiene nulos, lo que es un buen comienzo."
   ]
  },
  {
   "cell_type": "code",
   "execution_count": null,
   "id": "23f7b2fc",
   "metadata": {},
   "outputs": [],
   "source": [
    "df_activity.dtypes"
   ]
  },
  {
   "cell_type": "markdown",
   "id": "ea701e06",
   "metadata": {},
   "source": [
    "Por comodidad vamos a quitar los espacios de los nombres de las columnas "
   ]
  },
  {
   "cell_type": "code",
   "execution_count": null,
   "id": "8148a009",
   "metadata": {},
   "outputs": [],
   "source": [
    "df_activity.columns = df_activity.columns.str.replace(' ', '')"
   ]
  },
  {
   "cell_type": "markdown",
   "id": "c09756cd",
   "metadata": {},
   "source": [
    "# 2. **Limpieza de Datos:**\n",
    "   - Elimina o trata los valores nulos, si los hay, en las columnas clave para asegurar que los datos estén completos.\n",
    "   - Verifica la consistencia y corrección de los datos para asegurarte de que los datos se presenten de forma coherente.\n",
    "   - Realiza cualquier ajuste o conversión necesaria en las columnas (por ejemplo, cambiar tipos de datos) para garantizar la adecuación de los datos para el análisis estadístico."
   ]
  },
  {
   "cell_type": "code",
   "execution_count": null,
   "id": "f8f1c06e",
   "metadata": {},
   "outputs": [],
   "source": [
    "total_duplicadas=df_activity.duplicated().sum()\n",
    "print(f\"Total de filas duplicadas: {total_duplicadas}\")"
   ]
  },
  {
   "cell_type": "code",
   "execution_count": null,
   "id": "81174edc",
   "metadata": {},
   "outputs": [],
   "source": [
    "df_activity.drop_duplicates(inplace=True)\n",
    "print(\"Número de filas después de eliminar duplicados exactos:\", len(df_activity))"
   ]
  },
  {
   "cell_type": "markdown",
   "id": "a84e010e",
   "metadata": {},
   "source": [
    "Tras eliminar los duplicados, observar que no hay nulos y que le tipo de las columnas es correcto, finalizamos el tratamiento del documento.\n",
    "\n",
    "\n",
    "Pasamos la funcion de #EDA para darle un último vistazo y comprobar que todo está bien"
   ]
  },
  {
   "cell_type": "code",
   "execution_count": null,
   "id": "74353cee",
   "metadata": {},
   "outputs": [],
   "source": [
    "\n",
    "def eda(df_activity):\n",
    "    print(\"========== RESUMEN GENERAL ==========\")\n",
    "    print(f\"Filas x Columnas (shape): {df_activity.shape}\")\n",
    "    \n",
    "    print(\"\\nColumnas:\")\n",
    "    print(df_activity.columns.tolist())\n",
    "\n",
    "    print(\"\\nDtypes:\")\n",
    "    print(df_activity.dtypes)\n",
    "\n",
    "    print(\"\\nNulos por columna:\")\n",
    "    print(df_activity.isnull().sum())\n",
    "\n",
    "    print(\"\\n========== DESCRIBE NUMÉRICO ==========\")\n",
    "    print(df_activity.describe().T)\n",
    "\n",
    "    \n",
    "    col_categoricas = df_activity.select_dtypes(include=[\"object\", \"category\"]).columns.tolist()\n",
    "    if len(col_categoricas) > 0:\n",
    "\n",
    "        print(\"\\n========== DESCRIBE CATEGÓRICO (object/category) ==========\")\n",
    "        print(df_activity.describe(include=[\"object\", \"category\"]).T)\n",
    "    else:\n",
    "        print(\"\\n No hay columnas categóricas en el DataFrame.\")\n",
    "\n",
    "    print(\"\\n========== HEAD ==========\")\n",
    "    print(df_activity.head(2))\n",
    "    \n",
    "    print(\"\\n========== TAIL ==========\")\n",
    "    print(df_activity.tail(2))\n",
    "    \n",
    "    print(\"\\n========== SAMPLE ==========\")\n",
    "    print(df_activity.sample(2))\n",
    "\n",
    "    print(\"\\n========== VALUE COUNTS (por columna categórica) ==========\")\n",
    "    if len(col_categoricas) > 0:\n",
    "        for col in col_categoricas:\n",
    "            print(f\"\\nColumna: {col}\")\n",
    "            print(df_activity[col].value_counts().head(3))\n",
    "    else:\n",
    "        print(\" No hay columnas categóricas para mostrar value counts.\")\n",
    "\n",
    "    print(\"\\n========== DUPLICADOS ==========\")\n",
    "    duplicados = df_activity[df_activity.duplicated()]\n",
    "    print(f\"Duplicados encontrados: {duplicados.shape[0]}\")\n",
    "    \n",
    "    if duplicados.shape[0] > 0:\n",
    "        print(duplicados.head())\n",
    "        print(\"\\nBorrando duplicados (sin modificar original):\")\n",
    "        df_sin_dups = df_activity.drop_duplicates()\n",
    "        print(f\"Nuevo tamaño sin duplicados: {df_sin_dups.shape}\")\n",
    "    else:\n",
    "        print(\" No hay duplicados.\")\n",
    "\n",
    "    print(\"\\n========== HISTOGRAMAS NUMÉRICOS ==========\")\n",
    "    df_activity.hist(bins=20, figsize=(25, 25))\n",
    "    plt.suptitle(\"Distribución de variables numéricas\", fontsize=16)\n",
    "    plt.show()\n",
    "\n",
    "    if len(col_categoricas) > 0:\n",
    "        print(\"\\n========== BARRAS CATEGÓRICAS ==========\")\n",
    "        for c in col_categoricas:\n",
    "            plt.figure(figsize=(10, 6))\n",
    "            sns.countplot(x=c, data=df_activity, palette='Set2')\n",
    "            plt.xticks(rotation=45)\n",
    "            plt.title(f\"Distribución de {c}\", fontsize=14)\n",
    "            plt.xlabel(c)\n",
    "            plt.ylabel(\"Frecuencia\")\n",
    "            plt.show()\n",
    "    else:\n",
    "        print(\"\\n No hay variables categóricas para graficar.\")\n",
    "\n",
    "    print(\"\\n EDA completado con éxito.\")\n"
   ]
  },
  {
   "cell_type": "code",
   "execution_count": null,
   "id": "6624dd0b",
   "metadata": {},
   "outputs": [],
   "source": [
    "eda(df_activity)"
   ]
  },
  {
   "cell_type": "markdown",
   "id": "08b082be",
   "metadata": {},
   "source": [
    "A continuación procedemos a guardar el CSV tratado:"
   ]
  },
  {
   "cell_type": "code",
   "execution_count": 46,
   "id": "dfc70573",
   "metadata": {},
   "outputs": [],
   "source": [
    "df_activity.to_csv('df_activity_clean.csv', index=False)"
   ]
  }
 ],
 "metadata": {
  "kernelspec": {
   "display_name": "Python 3",
   "language": "python",
   "name": "python3"
  },
  "language_info": {
   "codemirror_mode": {
    "name": "ipython",
    "version": 3
   },
   "file_extension": ".py",
   "mimetype": "text/x-python",
   "name": "python",
   "nbconvert_exporter": "python",
   "pygments_lexer": "ipython3",
   "version": "3.11.9"
  }
 },
 "nbformat": 4,
 "nbformat_minor": 5
}
